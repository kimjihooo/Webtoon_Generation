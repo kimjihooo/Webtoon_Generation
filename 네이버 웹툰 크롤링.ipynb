{
 "cells": [
  {
   "cell_type": "markdown",
   "id": "83d1fd57",
   "metadata": {},
   "source": [
    "# 네이버 웹툰 크롤링\n",
    "https://yeeybook.tistory.com/139\n",
    "\n",
    "https://github.com/yeeybook/WebCrawler/blob/master/naver_webtoon_crawler.py"
   ]
  },
  {
   "cell_type": "code",
   "execution_count": 1,
   "id": "cf4d2fb1",
   "metadata": {},
   "outputs": [],
   "source": [
    "import requests\n",
    "from bs4 import BeautifulSoup\n",
    "from selenium import webdriver\n",
    "from time import sleep\n",
    "import pandas as pd"
   ]
  },
  {
   "cell_type": "markdown",
   "id": "778270a1",
   "metadata": {},
   "source": [
    "## (1) 연재 중 웹툰"
   ]
  },
  {
   "cell_type": "code",
   "execution_count": 2,
   "id": "872f1826",
   "metadata": {},
   "outputs": [],
   "source": [
    "URL = 'https://comic.naver.com/webtoon/weekday.nhn'\n",
    "html = requests.get(URL).text # html 문서 전체를 긁어서 출력해줌, .text는 태그 제외하고 text만 출력되게 함\n",
    "soup = BeautifulSoup(html, 'html.parser')"
   ]
  },
  {
   "cell_type": "code",
   "execution_count": 3,
   "id": "f4bf88cd",
   "metadata": {},
   "outputs": [
    {
     "name": "stderr",
     "output_type": "stream",
     "text": [
      "<ipython-input-3-5a7962935e24>:5: DeprecationWarning: executable_path has been deprecated, please pass in a Service object\n",
      "  driver = webdriver.Chrome('C:/chromedriver.exe') # 크롬 사용하니까\n",
      "<ipython-input-3-5a7962935e24>:11: DeprecationWarning: find_elements_by_class_name is deprecated. Please use find_elements(by=By.CLASS_NAME, value=name) instead\n",
      "  page = driver.find_elements_by_class_name('title')\n"
     ]
    }
   ],
   "source": [
    "title = soup.find_all('a', {'class' : 'title'}) # a태그에서 class='title'인 html소스를 찾아 할당\n",
    "id_list = [] ; title_list = [] ; author_list = [] ; day_list = [] ; genre_list = [] ; story_list = [] ; platform_list = []\n",
    "num = 0\n",
    "\n",
    "driver = webdriver.Chrome('C:/chromedriver.exe') # 크롬 사용하니까\n",
    "driver.get(URL)\n",
    "\n",
    "for i in range(len(title)):\n",
    "    sleep(0.5) # 크롤링 중간 중간 텀을 주어 과부하 생기지 않도록\n",
    "\n",
    "    page = driver.find_elements_by_class_name('title')\n",
    "    page[i].click() #월요일 첫 번째 웹툰부터 순서대로 클릭\n",
    "\n",
    "    sleep(0.5)\n",
    "\n",
    "    html = driver.page_source\n",
    "    soup = BeautifulSoup(html, 'html.parser') # 이동한 페이지 주소 읽고 파싱\n",
    "\n",
    "    day = soup.find_all('ul', {'class' : 'category_tab'})\n",
    "    day = day[0].find('li', {'class' : 'on'}).text[0:1] # 요일 수집\n",
    "\n",
    "    t = title[i].text\n",
    "    if (t in title_list):  # 요일 두 개 이상이면 요일만 추가함\n",
    "        day_list[title_list.index(t)] += ', ' + day\n",
    "        driver.back()\n",
    "        continue\n",
    "\n",
    "    id_list.append(num) ; num += 1  # id 리스트에 추가\n",
    "    title_list.append(t)  # 제목 리스트에 추가\n",
    "    day_list.append(day) # 요일 리스트에 추가\n",
    "    platform_list.append('네이버 웹툰') # 플랫폼 리스트에 추가\n",
    "\n",
    "    author = soup.find_all('h2') # 두 번째 h2태그에 있음\n",
    "    author = author[1].find('span', {'class' : 'wrt_nm'}).text[8:] # 7칸의 공백 후 8번 째부터 작가 이름임\n",
    "    author_list.append(author) # 작가 리스트에 추가\n",
    "\n",
    "    genre = soup.find('span', {'class' : 'genre'}).text # 장르 수집\n",
    "    genre_list.append(genre) # 장르 리스트에 추가\n",
    "\n",
    "    story = soup.find_all('p') # 줄거리 수집\n",
    "    story = str(story[3])\n",
    "    story = story.replace('<p>', '').replace('</p>', '').replace('<br/>', '\\n') # <br>을 개행으로 바꾸기\n",
    "    story_list.append(story) # 줄거리 리스트에 추가\n",
    "\n",
    "    driver.back() # 뒤로 가기"
   ]
  },
  {
   "cell_type": "code",
   "execution_count": 4,
   "id": "b18f5977",
   "metadata": {},
   "outputs": [],
   "source": [
    "total_data1 = pd.DataFrame()\n",
    "total_data1['id'] = id_list\n",
    "total_data1['title'] = title_list\n",
    "total_data1['author'] = author_list\n",
    "total_data1['day'] = day_list\n",
    "total_data1['genre'] = genre_list\n",
    "total_data1['story'] = story_list\n",
    "total_data1['platform'] = platform_list\n",
    "total_data1.to_csv('네이버_웹툰.csv', encoding = 'utf-8-sig')"
   ]
  },
  {
   "cell_type": "code",
   "execution_count": 5,
   "id": "ab391b55",
   "metadata": {},
   "outputs": [
    {
     "data": {
      "text/html": [
       "<div>\n",
       "<style scoped>\n",
       "    .dataframe tbody tr th:only-of-type {\n",
       "        vertical-align: middle;\n",
       "    }\n",
       "\n",
       "    .dataframe tbody tr th {\n",
       "        vertical-align: top;\n",
       "    }\n",
       "\n",
       "    .dataframe thead th {\n",
       "        text-align: right;\n",
       "    }\n",
       "</style>\n",
       "<table border=\"1\" class=\"dataframe\">\n",
       "  <thead>\n",
       "    <tr style=\"text-align: right;\">\n",
       "      <th></th>\n",
       "      <th>id</th>\n",
       "      <th>title</th>\n",
       "      <th>author</th>\n",
       "      <th>day</th>\n",
       "      <th>genre</th>\n",
       "      <th>story</th>\n",
       "      <th>platform</th>\n",
       "    </tr>\n",
       "  </thead>\n",
       "  <tbody>\n",
       "    <tr>\n",
       "      <th>0</th>\n",
       "      <td>0</td>\n",
       "      <td>참교육</td>\n",
       "      <td>채용택 / 한가람</td>\n",
       "      <td>월</td>\n",
       "      <td>스토리, 액션</td>\n",
       "      <td>무너진 교권을 지키기 위해 교권보호국 소속 나화진의 참교육이 시작된다!\\n&amp;lt;부...</td>\n",
       "      <td>네이버 웹툰</td>\n",
       "    </tr>\n",
       "    <tr>\n",
       "      <th>1</th>\n",
       "      <td>1</td>\n",
       "      <td>신의 탑</td>\n",
       "      <td>SIU</td>\n",
       "      <td>월</td>\n",
       "      <td>스토리, 판타지</td>\n",
       "      <td>자신의 모든 것이었던 소녀를 쫓아 탑에 들어온 소년\\n그리고 그런 소년을 시험하는 탑</td>\n",
       "      <td>네이버 웹툰</td>\n",
       "    </tr>\n",
       "    <tr>\n",
       "      <th>2</th>\n",
       "      <td>2</td>\n",
       "      <td>뷰티풀 군바리</td>\n",
       "      <td>설이 / 윤성원</td>\n",
       "      <td>월</td>\n",
       "      <td>스토리, 드라마</td>\n",
       "      <td>'여자도 군대에 간다면?'본격 여자도 군대 가는 만화!</td>\n",
       "      <td>네이버 웹툰</td>\n",
       "    </tr>\n",
       "    <tr>\n",
       "      <th>3</th>\n",
       "      <td>3</td>\n",
       "      <td>윈드브레이커</td>\n",
       "      <td>조용석</td>\n",
       "      <td>월</td>\n",
       "      <td>스토리, 스포츠</td>\n",
       "      <td>혼자서 자전거를 즐겨타던 모범생 조자현.\\n원치 않게 자전거 크루의 일에 자꾸 휘말...</td>\n",
       "      <td>네이버 웹툰</td>\n",
       "    </tr>\n",
       "    <tr>\n",
       "      <th>4</th>\n",
       "      <td>4</td>\n",
       "      <td>퀘스트지상주의</td>\n",
       "      <td>박태준 만화회사</td>\n",
       "      <td>월</td>\n",
       "      <td>스토리, 드라마</td>\n",
       "      <td>[외모지상주의], [싸움독학], [인생존망]과 세계관을 공유하는 작품!\\n공부, 싸...</td>\n",
       "      <td>네이버 웹툰</td>\n",
       "    </tr>\n",
       "  </tbody>\n",
       "</table>\n",
       "</div>"
      ],
      "text/plain": [
       "   id    title     author day     genre  \\\n",
       "0   0      참교육  채용택 / 한가람   월   스토리, 액션   \n",
       "1   1     신의 탑        SIU   월  스토리, 판타지   \n",
       "2   2  뷰티풀 군바리   설이 / 윤성원   월  스토리, 드라마   \n",
       "3   3   윈드브레이커        조용석   월  스토리, 스포츠   \n",
       "4   4  퀘스트지상주의   박태준 만화회사   월  스토리, 드라마   \n",
       "\n",
       "                                               story platform  \n",
       "0  무너진 교권을 지키기 위해 교권보호국 소속 나화진의 참교육이 시작된다!\\n&lt;부...   네이버 웹툰  \n",
       "1    자신의 모든 것이었던 소녀를 쫓아 탑에 들어온 소년\\n그리고 그런 소년을 시험하는 탑   네이버 웹툰  \n",
       "2                     '여자도 군대에 간다면?'본격 여자도 군대 가는 만화!   네이버 웹툰  \n",
       "3  혼자서 자전거를 즐겨타던 모범생 조자현.\\n원치 않게 자전거 크루의 일에 자꾸 휘말...   네이버 웹툰  \n",
       "4  [외모지상주의], [싸움독학], [인생존망]과 세계관을 공유하는 작품!\\n공부, 싸...   네이버 웹툰  "
      ]
     },
     "execution_count": 5,
     "metadata": {},
     "output_type": "execute_result"
    }
   ],
   "source": [
    "total_data1.head()"
   ]
  },
  {
   "cell_type": "code",
   "execution_count": 8,
   "id": "e8881dec",
   "metadata": {},
   "outputs": [
    {
     "data": {
      "text/plain": [
       "(547, 7)"
      ]
     },
     "execution_count": 8,
     "metadata": {},
     "output_type": "execute_result"
    }
   ],
   "source": [
    "total_data1.shape"
   ]
  },
  {
   "cell_type": "markdown",
   "id": "43fd622f",
   "metadata": {},
   "source": [
    "## (2) 완결 웹툰"
   ]
  },
  {
   "cell_type": "code",
   "execution_count": 19,
   "id": "2941a487",
   "metadata": {},
   "outputs": [],
   "source": [
    "URL = 'https://comic.naver.com/webtoon/finish'\n",
    "html = requests.get(URL).text # html 문서 전체를 긁어서 출력해줌, .text는 태그 제외하고 text만 출력되게 함\n",
    "soup = BeautifulSoup(html, 'html.parser')"
   ]
  },
  {
   "cell_type": "code",
   "execution_count": 7,
   "id": "80bf8892",
   "metadata": {},
   "outputs": [
    {
     "name": "stderr",
     "output_type": "stream",
     "text": [
      "<ipython-input-7-43d170878254>:5: DeprecationWarning: executable_path has been deprecated, please pass in a Service object\n",
      "  driver = webdriver.Chrome('C:/chromedriver.exe') # 크롬 사용하니까\n"
     ]
    }
   ],
   "source": [
    "mask = soup.find_all('a', {'class' : 'mask'}) # a태그에서 class='title'인 html소스를 찾아 할당\n",
    "id_list = [] ; title_list = [] ; genre_list = [] ; story_list = [] \n",
    "num = 0\n",
    "\n",
    "driver = webdriver.Chrome('C:/chromedriver.exe') # 크롬 사용하니까\n",
    "driver.get(URL)\n",
    "\n",
    "for i in range(len(mask)):\n",
    "    sleep(0.5) # 크롤링 중간 중간 텀을 주어 과부하 생기지 않도록\n",
    "\n",
    "    page = driver.find_elements_by_class_name('mask')\n",
    "    page[i].click() #월요일 첫 번째 웹툰부터 순서대로 클릭\n",
    "\n",
    "    sleep(0.5)\n",
    "\n",
    "    html = driver.page_source\n",
    "    soup = BeautifulSoup(html, 'html.parser') # 이동한 페이지 주소 읽고 파싱\n",
    "\n",
    "    t = title[i].text\n",
    "\n",
    "    id_list.append(num) ; num += 1  # id 리스트에 추가\n",
    "    title_list.append(t)  # 제목 리스트에 추가\n",
    "\n",
    "    genre = soup.find('span', {'class' : 'genre'}).text # 장르 수집\n",
    "    genre_list.append(genre) # 장르 리스트에 추가\n",
    "\n",
    "    story = soup.find_all('p') # 줄거리 수집\n",
    "    story = str(story[3])\n",
    "    story = story.replace('<p>', '').replace('</p>', '').replace('<br/>', '\\n') # <br>을 개행으로 바꾸기\n",
    "    story_list.append(story) # 줄거리 리스트에 추가\n",
    "\n",
    "    driver.back() # 뒤로 가기"
   ]
  },
  {
   "cell_type": "code",
   "execution_count": null,
   "id": "092d5a8b",
   "metadata": {},
   "outputs": [],
   "source": [
    "total_data2 = pd.DataFrame()\n",
    "total_data2['id'] = id_list\n",
    "total_data2['title'] = title_list\n",
    "total_data2['genre'] = genre_list\n",
    "total_data2['story'] = story_list\n",
    "total_data2.to_csv('네이버_웹툰_완결.csv', encoding = 'utf-8-sig')"
   ]
  },
  {
   "cell_type": "code",
   "execution_count": null,
   "id": "8cba7c26",
   "metadata": {},
   "outputs": [],
   "source": [
    "total_data2.head()"
   ]
  },
  {
   "cell_type": "code",
   "execution_count": null,
   "id": "2a428eab",
   "metadata": {},
   "outputs": [],
   "source": []
  },
  {
   "cell_type": "code",
   "execution_count": null,
   "id": "370c3389",
   "metadata": {},
   "outputs": [],
   "source": []
  },
  {
   "cell_type": "code",
   "execution_count": 17,
   "id": "858b7555",
   "metadata": {},
   "outputs": [],
   "source": [
    "title = soup.find_all('a', {'class' : 'title'}) # a태그에서 class='title'인 html소스를 찾아 할당"
   ]
  },
  {
   "cell_type": "code",
   "execution_count": 10,
   "id": "2f0c9ef7",
   "metadata": {},
   "outputs": [
    {
     "name": "stderr",
     "output_type": "stream",
     "text": [
      "<ipython-input-10-002e5a7a2097>:5: DeprecationWarning: executable_path has been deprecated, please pass in a Service object\n",
      "  driver = webdriver.Chrome('C:/chromedriver.exe') # 크롬 사용하니까\n"
     ]
    }
   ],
   "source": [
    "title = soup.find_all('a', {'class' : 'title'}) # a태그에서 class='title'인 html소스를 찾아 할당\n",
    "id_list = [] ; title_list = [] ; genre_list = [] ; story_list = [] \n",
    "num = 0\n",
    "\n",
    "driver = webdriver.Chrome('C:/chromedriver.exe') # 크롬 사용하니까\n",
    "driver.get(URL)\n",
    "\n",
    "for i in range(len(title)):\n",
    "    sleep(0.5) # 크롤링 중간 중간 텀을 주어 과부하 생기지 않도록\n",
    "\n",
    "    page = driver.find_elements_by_class_name('title')\n",
    "    page[i].click() #월요일 첫 번째 웹툰부터 순서대로 클릭\n",
    "\n",
    "    sleep(0.5)"
   ]
  },
  {
   "cell_type": "code",
   "execution_count": null,
   "id": "620e41d0",
   "metadata": {},
   "outputs": [],
   "source": []
  },
  {
   "cell_type": "code",
   "execution_count": null,
   "id": "021db156",
   "metadata": {},
   "outputs": [],
   "source": []
  },
  {
   "cell_type": "code",
   "execution_count": null,
   "id": "1ac77463",
   "metadata": {},
   "outputs": [],
   "source": []
  },
  {
   "cell_type": "code",
   "execution_count": null,
   "id": "b355b6db",
   "metadata": {},
   "outputs": [],
   "source": []
  },
  {
   "cell_type": "code",
   "execution_count": null,
   "id": "7b46f7aa",
   "metadata": {},
   "outputs": [],
   "source": [
    "from selenium import webdriver\n",
    "from selenium.webdriver.common.keys import Keys\n",
    "import time\n",
    "import csv\n",
    "# 브라우저 생성\n",
    "browser = webdriver.Chrome('C:/chromedriver.exe')\n",
    "\n",
    "# 열기\n",
    "browser.get('https://comic.naver.com/webtoon/finish')  # 네이버를 열어라\n",
    "browser.implicitly_wait(10) # 로딩이 끝날 때까지 10초까지는 기다려줌\n",
    "\n"
   ]
  },
  {
   "cell_type": "markdown",
   "id": "2b284b81",
   "metadata": {},
   "source": [
    "## 최종 데이터"
   ]
  },
  {
   "cell_type": "code",
   "execution_count": null,
   "id": "63871597",
   "metadata": {},
   "outputs": [],
   "source": [
    "# id, title, genre, story 남기기\n",
    "# 합치고 index 정리\n",
    "# title 중복 제거\n",
    "# 최종 데이터 저장"
   ]
  }
 ],
 "metadata": {
  "kernelspec": {
   "display_name": "Python 3",
   "language": "python",
   "name": "python3"
  },
  "language_info": {
   "codemirror_mode": {
    "name": "ipython",
    "version": 3
   },
   "file_extension": ".py",
   "mimetype": "text/x-python",
   "name": "python",
   "nbconvert_exporter": "python",
   "pygments_lexer": "ipython3",
   "version": "3.8.8"
  }
 },
 "nbformat": 4,
 "nbformat_minor": 5
}
